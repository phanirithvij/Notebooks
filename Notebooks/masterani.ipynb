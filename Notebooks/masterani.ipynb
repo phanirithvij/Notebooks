{
 "cells": [
  {
   "cell_type": "code",
   "execution_count": 1,
   "metadata": {},
   "outputs": [],
   "source": [
    "from anime_downloader import get_anime_class"
   ]
  },
  {
   "cell_type": "code",
   "execution_count": 2,
   "metadata": {},
   "outputs": [],
   "source": [
    "masterani = get_anime_class(\"masteranime\")"
   ]
  },
  {
   "cell_type": "code",
   "execution_count": 8,
   "metadata": {},
   "outputs": [],
   "source": [
    "x = masterani('https://www.masterani.me/anime/info/53-hunter-x-hunter-2011')"
   ]
  },
  {
   "cell_type": "code",
   "execution_count": 26,
   "metadata": {},
   "outputs": [],
   "source": [
    "y = x.verify_url('https://www.masterani.me/watch/53-hunter-x-hunter-2011/1')"
   ]
  },
  {
   "cell_type": "code",
   "execution_count": 27,
   "metadata": {},
   "outputs": [
    {
     "data": {
      "text/plain": [
       "True"
      ]
     },
     "execution_count": 27,
     "metadata": {},
     "output_type": "execute_result"
    }
   ],
   "source": [
    "y"
   ]
  },
  {
   "cell_type": "code",
   "execution_count": 1,
   "metadata": {},
   "outputs": [
    {
     "ename": "SyntaxError",
     "evalue": "invalid syntax (<ipython-input-1-91887fb305dc>, line 110)",
     "output_type": "error",
     "traceback": [
      "\u001b[0;36m  File \u001b[0;32m\"<ipython-input-1-91887fb305dc>\"\u001b[0;36m, line \u001b[0;32m110\u001b[0m\n\u001b[0;31m    except UnicodeDecodeError, ude:\u001b[0m\n\u001b[0m                             ^\u001b[0m\n\u001b[0;31mSyntaxError\u001b[0m\u001b[0;31m:\u001b[0m invalid syntax\n"
     ]
    }
   ],
   "source": [
    "#!/usr/bin/env python\n",
    "# -*- coding: utf-8 -*-\n",
    "#\n",
    "# direct and api method from:\n",
    "#   streamondemand: https://github.com/streamondemand/plugin.video.streamondemand/blob/master/servers/openload.py\n",
    "#\n",
    "# Edited by:    Twoure\n",
    "# Edit Date:    05/17/17\n",
    "\n",
    "from operator import ixor\n",
    "\n",
    "USER_AGENT = 'Mozilla/5.0 (X11; Linux x86_64) AppleWebKit/537.36 (KHTML, like Gecko) Chrome/50.0.2661.102 Safari/537.36'\n",
    "RE_NORM = Regex(r'(https?://\\w+\\.\\w+)/\\w+/([^/]+)(/.+)?')\n",
    "\n",
    "def link_from_api(fid):\n",
    "    l = 'OTdiMjMyNmQ3ZGI4MWYwZg__'\n",
    "    k = 'QVFGTzNRSlE_'\n",
    "    burl = 'aHR0cHM6Ly9hcGkub3BlbmxvYWQuY28vMS9maWxlLw__'\n",
    "    api1 = 'e31kbHRpY2tldD9maWxlPXt9JmxvZ2luPXt9JmtleT17fQ__'\n",
    "    api2 = 'e31kbD9maWxlPXt9JnRpY2tldD17fQ__'\n",
    "\n",
    "    try:\n",
    "        data = JSON.ObjectFromURL(D(api1).format(D(burl), fid, D(l), D(k)), cacheTime=CACHE_1HOUR*5)\n",
    "    except:\n",
    "        Log.Exception(u\"* <openload.link_from_api> - error: cannot handle first api link >>>\")\n",
    "        return False\n",
    "\n",
    "    if (data[\"status\"] == 200):\n",
    "        t = data[\"result\"][\"ticket\"]\n",
    "        try:\n",
    "            data = JSON.ObjectFromURL(D(api2).format(D(burl), fid, t), cacheTime=CACHE_1HOUR*5)\n",
    "            return (data['result']['url']).replace(\"https\", \"http\")\n",
    "        except:\n",
    "            Log.Exception(u\"* <openload.link_from_api> - error: cannot handle 2nd api link >>>\")\n",
    "    Log.Error(\"* <openload.link_from_api> - error: failed to retrieve video stream\")\n",
    "    return False\n",
    "\n",
    "def direct_decode(encode, numeros, ops):\n",
    "    Log(\"* <openload.direct_decode> - Trying direct method 05/17/17.\")\n",
    "    text_decode = \"\"\n",
    "    try:\n",
    "        mult = int(ops[0]) * int(ops[1])\n",
    "        rango1 = encode[:mult]\n",
    "        decode1 = []\n",
    "        for i in range(0, len(rango1), 8):\n",
    "            decode1.append(int(rango1[i:i+8], 16))\n",
    "        rango1 = encode[mult:]\n",
    "        j = 0\n",
    "        i = 0\n",
    "        while i < len(rango1):\n",
    "            index1 = 64\n",
    "            value1 = 0\n",
    "            value2 = 0\n",
    "            value3 = 0\n",
    "            while True:\n",
    "                if (i + 1) >= len(rango1):\n",
    "                    index1 = 143\n",
    "                value3 = int(rango1[i:i+2], 16)\n",
    "                i += 2\n",
    "                data = value3 & 63\n",
    "                value2 += data << value1\n",
    "                value1 += 6\n",
    "                if value3 < index1:\n",
    "                    break\n",
    "\n",
    "            value4 = value2 ^ decode1[j % (mult/8)]\n",
    "            for n in numeros:\n",
    "                if not n.isdigit():\n",
    "                    n = int(n, 16)\n",
    "                value4 = ixor(value4, int(n))\n",
    "            value5 = index1 * 2 + 127\n",
    "            for h in range(4):\n",
    "                valorfinal = (value4 >> 8 * h) & (value5)\n",
    "                valorfinal = chr(valorfinal)\n",
    "                if valorfinal != \"%\":\n",
    "                    text_decode += valorfinal\n",
    "            j += 1\n",
    "        return unicode(text_decode)\n",
    "    except:\n",
    "        Log.Exception(\"* <openload.direct_decode> - error[1]: cannot directly decode with method 05/17/17 >>>\")\n",
    "    return False\n",
    "\n",
    "def decode_hiddenUrl(hurls, page):\n",
    "    r = Regex(r'(?s)\\(\\'\\_\\'\\)\\;(.+?)ﾟωﾟﾉ= /｀ｍ´）ﾉ').search(page)\n",
    "    if not r:\n",
    "        Log.Error(\"* <openload.decode_hiddenUrl> - error: cannot find jscode in page, with method 03/29/17 >>>\")\n",
    "        return False\n",
    "    jscode = r.group(1)\n",
    "    rn = Regex(r'_[A-f0-9]+x[A-f0-9]+\\s*(?:=|\\^)\\s*([0-9]{4,}|0x[A-f0-9]{4,})').findall(jscode)\n",
    "    rops = Regex(r'\\(0x(\\d),0x(\\d)\\);').search(jscode)\n",
    "    ops = rops.groups() if rops else list()\n",
    "\n",
    "    for (hid, k) in hurls:\n",
    "        if \" \" in k:\n",
    "            continue\n",
    "        dec = direct_decode(k, rn, ops)\n",
    "        if dec:\n",
    "            return dec\n",
    "    return False\n",
    "\n",
    "def OpenloadStreamFromURL(url, http_headers=None):\n",
    "    if not http_headers:\n",
    "        http_headers = {'User-Agnet': USER_AGENT, 'Referer': url}\n",
    "\n",
    "    base = RE_NORM.search(url)\n",
    "    eurl = base.group(1) + '/embed/' + base.group(2) + (base.group(3) if base.group(3) else '')\n",
    "\n",
    "    try:\n",
    "        page = HTTP.Request(eurl, encoding=('utf-8'), headers=http_headers, cacheTime=CACHE_1MINUTE).content\n",
    "    except UnicodeDecodeError, ude:\n",
    "        Log.Warn(u\"* Warning: Content removed by Openload for '{0}'\".format(eurl))\n",
    "        Log(str(ude))\n",
    "        return False\n",
    "    except:\n",
    "        Log(u\"* Error handling '{0}' >>>\".format(eurl))\n",
    "        Log.Exception(u\"* Error: Cannot Open/Decode Openload page >>>\")\n",
    "        return False\n",
    "\n",
    "    html = HTML.ElementFromString(page)\n",
    "    hiddenUrls = html.xpath('//span[@id]')\n",
    "    if hiddenUrls:\n",
    "        hurl = decode_hiddenUrl([(h.get('id'), h.text) for h in hiddenUrls], page)\n",
    "        if hurl:\n",
    "            return u'https://openload.co/stream/{0}?mime=true'.format(hurl)\n",
    "        else:\n",
    "            Log.Error(u'* Cannot directly decode hiddenUrl. Trying api method.')\n",
    "            # Fallback to api method, although at peak times it will not work\n",
    "            return link_from_api(base.group(2))\n",
    "    else:\n",
    "        Log.Warn(u'* No hiddenUrl to decode.')\n",
    "    return False"
   ]
  },
  {
   "cell_type": "code",
   "execution_count": null,
   "metadata": {},
   "outputs": [],
   "source": []
  }
 ],
 "metadata": {
  "kernelspec": {
   "display_name": "Python 3",
   "language": "python",
   "name": "python3"
  },
  "language_info": {
   "codemirror_mode": {
    "name": "ipython",
    "version": 3
   },
   "file_extension": ".py",
   "mimetype": "text/x-python",
   "name": "python",
   "nbconvert_exporter": "python",
   "pygments_lexer": "ipython3",
   "version": "3.5.2"
  },
  "widgets": {
   "application/vnd.jupyter.widget-state+json": {
    "state": {},
    "version_major": 2,
    "version_minor": 0
   }
  }
 },
 "nbformat": 4,
 "nbformat_minor": 2
}
