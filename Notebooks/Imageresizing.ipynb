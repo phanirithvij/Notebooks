{
 "cells": [
  {
   "cell_type": "code",
   "execution_count": 8,
   "metadata": {},
   "outputs": [],
   "source": [
    "%matplotlib inline"
   ]
  },
  {
   "cell_type": "code",
   "execution_count": 9,
   "metadata": {},
   "outputs": [
    {
     "name": "stdout",
     "output_type": "stream",
     "text": [
      "(1848, 1408)\n"
     ]
    }
   ],
   "source": [
    "from PIL import Image\n",
    "img = Image.open(\"/home/phani/Projects/Machine-learning/disc.png\")\n",
    "print(img.size)\n",
    "w,h = img.size\n",
    "\n",
    "r = 7/10\n",
    "\n",
    "nw,nh = (int(w*r),int(h*r))\n",
    "\n",
    "img = img.resize((nw,nh),Image.ANTIALIAS)\n",
    "img.save(\"assets/disc.png\",quality=85)\n",
    "img.save(\"assets/disc_opt.png\",optimize=True,quality=85)"
   ]
  },
  {
   "cell_type": "code",
   "execution_count": 10,
   "metadata": {},
   "outputs": [
    {
     "name": "stdout",
     "output_type": "stream",
     "text": [
      "total 3900\r\n",
      "-rw-rw-r-- 1 phani phani 1983312 Jul 23 16:11 \u001b[0m\u001b[01;35mdisc_opt.png\u001b[0m\r\n",
      "-rw-rw-r-- 1 phani phani 2004564 Jul 23 16:11 \u001b[01;35mdisc.png\u001b[0m\r\n"
     ]
    }
   ],
   "source": [
    "%ls -l assets"
   ]
  },
  {
   "cell_type": "code",
   "execution_count": 11,
   "metadata": {
    "scrolled": false
   },
   "outputs": [
    {
     "data": {
      "text/html": [
       "<!--\n",
       "<img src=\"assets/disc.png\" width=\"800\">\n",
       "<img src=\"assets/disc_opt.png\" width=\"500\">-->"
      ],
      "text/plain": [
       "<IPython.core.display.HTML object>"
      ]
     },
     "metadata": {},
     "output_type": "display_data"
    }
   ],
   "source": [
    "%%HTML\n",
    "<!--\n",
    "<img src=\"assets/disc.png\" width=\"800\">\n",
    "<img src=\"assets/disc_opt.png\" width=\"500\">-->"
   ]
  },
  {
   "cell_type": "code",
   "execution_count": 12,
   "metadata": {},
   "outputs": [
    {
     "name": "stdout",
     "output_type": "stream",
     "text": [
      "[[255 255 255 ... 255 255 255]\n",
      " [255 255 255 ... 255 255 255]\n",
      " [255 255 255 ... 255 255 255]\n",
      " ...\n",
      " [255 255 255 ... 255 255 255]\n",
      " [255 255 255 ... 255 255 255]\n",
      " [255 255 255 ... 255 255 255]]\n"
     ]
    }
   ],
   "source": [
    "from PIL import Image\n",
    "import numpy as np\n",
    "\n",
    "im = Image.open('onepiece17.png')\n",
    "im = im.convert('RGBA')\n",
    "\n",
    "data = np.array(im)   # \"data\" is a height x width x 4 numpy array\n",
    "red, green, blue, alpha = data.T # Temporarily unpack the bands for readability\n",
    "\n",
    "# Replace white with red... (leaves alpha values alone...)\n",
    "white_areas = (red == 255) & (blue == 255) & (green == 255)\n",
    "data[..., :-1][white_areas.T] = (255, 0, 0) # Transpose back needed\n",
    "\n",
    "im2 = Image.fromarray(data)\n",
    "#im2.show()\n",
    "\n",
    "data2 = np.array(im2)   # \"data2\" is a height x width x 4 numpy array\n",
    "red2, green2, blue2, alpha2 = data2.T # Temporarily unpack the bands for readability\n",
    "\n",
    "# Replace red with white... (leaves alpha values alone...)\n",
    "red_areas = (red == 255) & (blue == 0) & (green == 0)\n",
    "data2[..., :-1][red_areas.T] = (255, 255, 255) # Transpose back needed\n",
    "\n",
    "im3 = Image.fromarray(data2)\n",
    "im3.save(\"onepieceredtowhite.png\")\n",
    "\n",
    "print(alpha)"
   ]
  },
  {
   "cell_type": "code",
   "execution_count": 13,
   "metadata": {},
   "outputs": [],
   "source": [
    "from colorthief import ColorThief\n",
    "import matplotlib.pyplot as plt\n",
    "import numpy as np"
   ]
  },
  {
   "cell_type": "code",
   "execution_count": 17,
   "metadata": {},
   "outputs": [],
   "source": [
    "color_thief = ColorThief('/home/phani/Desktop/403427-download-free-deadpool-wallpaper-1920x1080-for-1080p.jpg')\n",
    "# get the dominant color\n",
    "dominant_color = color_thief.get_color(quality=1)\n",
    "# build a color palette\n",
    "palette = color_thief.get_palette(color_count=10)"
   ]
  },
  {
   "cell_type": "code",
   "execution_count": 18,
   "metadata": {},
   "outputs": [
    {
     "data": {
      "image/png": "[encoded data removed]",
      "text/plain": [
       "<Figure size 432x288 with 1 Axes>"
      ]
     },
     "metadata": {},
     "output_type": "display_data"
    }
   ],
   "source": [
    "palette = np.array(palette)\n",
    "dominant_color = np.array(dominant_color)\n",
    "\n",
    "plt.imshow([[dominant_color]], interpolation='nearest')\n",
    "plt.axis('off')\n",
    "plt.show()"
   ]
  },
  {
   "cell_type": "code",
   "execution_count": 19,
   "metadata": {
    "scrolled": true
   },
   "outputs": [
    {
     "data": {
      "image/png": "[encoded data removed]",
      "text/plain": [
       "<Figure size 432x288 with 1 Axes>"
      ]
     },
     "metadata": {},
     "output_type": "display_data"
    }
   ],
   "source": [
    "#fig, ax = plt.subplots(ncols=1,nrows=1)\n",
    "#ax.set_facecolor((1,0.2,.2))\n",
    "npArray = np.array([palette])\n",
    "plt.imshow(npArray, interpolation='nearest')\n",
    "plt.axis('off')\n",
    "plt.show()"
   ]
  },
  {
   "cell_type": "code",
   "execution_count": null,
   "metadata": {},
   "outputs": [],
   "source": []
  }
 ],
 "metadata": {
  "kernelspec": {
   "display_name": "Python 3",
   "language": "python",
   "name": "python3"
  },
  "language_info": {
   "codemirror_mode": {
    "name": "ipython",
    "version": 3
   },
   "file_extension": ".py",
   "mimetype": "text/x-python",
   "name": "python",
   "nbconvert_exporter": "python",
   "pygments_lexer": "ipython3",
   "version": "3.5.2"
  }
 },
 "nbformat": 4,
 "nbformat_minor": 2
}
