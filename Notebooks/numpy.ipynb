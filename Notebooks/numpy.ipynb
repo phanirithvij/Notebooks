{
 "cells": [
  {
   "cell_type": "code",
   "execution_count": 1,
   "metadata": {},
   "outputs": [],
   "source": [
    "import numpy as np"
   ]
  },
  {
   "cell_type": "code",
   "execution_count": 2,
   "metadata": {},
   "outputs": [],
   "source": [
    "a = np.random.rand(100,100)"
   ]
  },
  {
   "cell_type": "code",
   "execution_count": 3,
   "metadata": {},
   "outputs": [
    {
     "data": {
      "text/plain": [
       "array([[0.93654232, 0.26807769, 0.77837922, ..., 0.9147933 , 0.78381619,\n",
       "        0.84468909],\n",
       "       [0.39846454, 0.50893048, 0.89820824, ..., 0.10726773, 0.81418328,\n",
       "        0.20005087],\n",
       "       [0.52353006, 0.83934653, 0.96587242, ..., 0.77866894, 0.02503011,\n",
       "        0.34221688],\n",
       "       ...,\n",
       "       [0.63165974, 0.96218189, 0.19747074, ..., 0.24510462, 0.60832134,\n",
       "        0.51155416],\n",
       "       [0.32323444, 0.7088439 , 0.30444518, ..., 0.19318053, 0.47098051,\n",
       "        0.91732783],\n",
       "       [0.49903677, 0.27821098, 0.59820792, ..., 0.47229719, 0.877155  ,\n",
       "        0.01417146]])"
      ]
     },
     "execution_count": 3,
     "metadata": {},
     "output_type": "execute_result"
    }
   ],
   "source": [
    "a"
   ]
  },
  {
   "cell_type": "code",
   "execution_count": 4,
   "metadata": {},
   "outputs": [
    {
     "data": {
      "text/plain": [
       "(100, 100)"
      ]
     },
     "execution_count": 4,
     "metadata": {},
     "output_type": "execute_result"
    }
   ],
   "source": [
    "a.shape"
   ]
  },
  {
   "cell_type": "code",
   "execution_count": 5,
   "metadata": {},
   "outputs": [],
   "source": [
    "a = np.round(100 * a)"
   ]
  },
  {
   "cell_type": "code",
   "execution_count": 6,
   "metadata": {},
   "outputs": [
    {
     "data": {
      "text/plain": [
       "array([[94., 27., 78., ..., 91., 78., 84.],\n",
       "       [40., 51., 90., ..., 11., 81., 20.],\n",
       "       [52., 84., 97., ..., 78.,  3., 34.],\n",
       "       ...,\n",
       "       [63., 96., 20., ..., 25., 61., 51.],\n",
       "       [32., 71., 30., ..., 19., 47., 92.],\n",
       "       [50., 28., 60., ..., 47., 88.,  1.]])"
      ]
     },
     "execution_count": 6,
     "metadata": {},
     "output_type": "execute_result"
    }
   ],
   "source": [
    "a"
   ]
  },
  {
   "cell_type": "code",
   "execution_count": 20,
   "metadata": {
    "scrolled": false
   },
   "outputs": [
    {
     "data": {
      "text/plain": [
       "array([[ 4.,  7., 31., ..., 16., 14., 54.],\n",
       "       [91., 40., 70., ..., 75., 19., 99.],\n",
       "       [14., 59., 87., ...,  4., 21., 12.],\n",
       "       ...,\n",
       "       [18., 36., 91., ..., 99., 54., 61.],\n",
       "       [91., 47., 82., ..., 75., 77., 53.],\n",
       "       [62., 79., 78., ...,  6., 40.,  7.]])"
      ]
     },
     "execution_count": 20,
     "metadata": {},
     "output_type": "execute_result"
    }
   ],
   "source": [
    "a"
   ]
  },
  {
   "cell_type": "code",
   "execution_count": 14,
   "metadata": {},
   "outputs": [],
   "source": [
    "a[:30,:30] = 99"
   ]
  },
  {
   "cell_type": "code",
   "execution_count": 15,
   "metadata": {
    "scrolled": true
   },
   "outputs": [
    {
     "data": {
      "text/plain": [
       "array([[99., 99., 99., ..., 91., 78., 84.],\n",
       "       [99., 99., 99., ..., 11., 81., 20.],\n",
       "       [99., 99., 99., ..., 78.,  3., 34.],\n",
       "       ...,\n",
       "       [63., 96., 20., ..., 25., 61., 51.],\n",
       "       [32., 71., 30., ..., 19., 47., 92.],\n",
       "       [50., 28., 60., ..., 47., 88.,  1.]])"
      ]
     },
     "execution_count": 15,
     "metadata": {},
     "output_type": "execute_result"
    }
   ],
   "source": [
    "a"
   ]
  },
  {
   "cell_type": "code",
   "execution_count": 8,
   "metadata": {},
   "outputs": [],
   "source": [
    "list_ids = [(1,20),(11,1)]"
   ]
  },
  {
   "cell_type": "code",
   "execution_count": 9,
   "metadata": {},
   "outputs": [
    {
     "data": {
      "text/plain": [
       "array([99., 61.])"
      ]
     },
     "execution_count": 9,
     "metadata": {},
     "output_type": "execute_result"
    }
   ],
   "source": [
    "nparr[list_ids]"
   ]
  },
  {
   "cell_type": "code",
   "execution_count": 10,
   "metadata": {
    "scrolled": false
   },
   "outputs": [
    {
     "data": {
      "text/plain": [
       "array([74., 56., 28., 36.,  4., 89.,  7., 31., 64., 44., 39., 23., 27.,\n",
       "       93., 88.])"
      ]
     },
     "execution_count": 10,
     "metadata": {},
     "output_type": "execute_result"
    }
   ],
   "source": [
    "a[-1,70::2]"
   ]
  },
  {
   "cell_type": "code",
   "execution_count": 11,
   "metadata": {
    "scrolled": true
   },
   "outputs": [
    {
     "data": {
      "text/plain": [
       "array([[94., 27.],\n",
       "       [52., 84.],\n",
       "       [ 1., 87.],\n",
       "       [43., 79.],\n",
       "       [ 3., 18.],\n",
       "       [46., 69.],\n",
       "       [62., 16.],\n",
       "       [70., 33.],\n",
       "       [41., 70.],\n",
       "       [33., 73.],\n",
       "       [ 8., 61.],\n",
       "       [50., 38.],\n",
       "       [14., 26.],\n",
       "       [72., 47.],\n",
       "       [34., 25.],\n",
       "       [20., 92.],\n",
       "       [26., 89.],\n",
       "       [12., 13.],\n",
       "       [34., 78.],\n",
       "       [12., 31.],\n",
       "       [26., 16.],\n",
       "       [71., 66.],\n",
       "       [55., 27.],\n",
       "       [92., 67.],\n",
       "       [49., 90.],\n",
       "       [49., 42.],\n",
       "       [10., 48.],\n",
       "       [78., 91.],\n",
       "       [26., 70.],\n",
       "       [ 1., 47.],\n",
       "       [22., 17.],\n",
       "       [82., 23.],\n",
       "       [70., 66.],\n",
       "       [48., 79.],\n",
       "       [85., 67.],\n",
       "       [36., 53.],\n",
       "       [18.,  9.],\n",
       "       [54., 42.],\n",
       "       [17., 43.],\n",
       "       [ 9., 52.],\n",
       "       [80.,  8.],\n",
       "       [52., 24.],\n",
       "       [54., 84.],\n",
       "       [21., 66.],\n",
       "       [30., 62.],\n",
       "       [31., 14.],\n",
       "       [42., 41.],\n",
       "       [72., 39.],\n",
       "       [52., 64.],\n",
       "       [32., 71.]])"
      ]
     },
     "execution_count": 11,
     "metadata": {},
     "output_type": "execute_result"
    }
   ],
   "source": [
    "a[::2,:2:1]"
   ]
  },
  {
   "cell_type": "code",
   "execution_count": null,
   "metadata": {},
   "outputs": [],
   "source": []
  }
 ],
 "metadata": {
  "kernelspec": {
   "display_name": "Python 3",
   "language": "python",
   "name": "python3"
  },
  "language_info": {
   "codemirror_mode": {
    "name": "ipython",
    "version": 3
   },
   "file_extension": ".py",
   "mimetype": "text/x-python",
   "name": "python",
   "nbconvert_exporter": "python",
   "pygments_lexer": "ipython3",
   "version": "3.5.2"
  }
 },
 "nbformat": 4,
 "nbformat_minor": 2
}
